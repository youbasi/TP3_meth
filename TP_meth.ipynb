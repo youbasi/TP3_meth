{
 "cells": [
  {
   "cell_type": "markdown",
   "metadata": {},
   "source": [
    "# Fake news Detection"
   ]
  },
  {
   "cell_type": "code",
<<<<<<< HEAD
   "execution_count": 1,
=======
   "execution_count": 2,
   "id": "44647a28",
>>>>>>> 3a0c3cc1c9bee4c7ab64a78b5ea900b9edbf9da0
   "metadata": {},
   "outputs": [],
   "source": [
    "# imports\n",
    "import pandas as pd \n",
    "import re\n",
    "import string\n",
    "import matplotlib.pyplot as plt"
   ]
  },
  {
   "cell_type": "markdown",
<<<<<<< HEAD
=======
   "id": "748003ee",
>>>>>>> 3a0c3cc1c9bee4c7ab64a78b5ea900b9edbf9da0
   "metadata": {},
   "source": [
    "## Treating / process the dataset"
   ]
  },
  {
   "cell_type": "code",
<<<<<<< HEAD
   "execution_count": 2,
=======
   "execution_count": 3,
   "id": "b7b99260",
>>>>>>> 3a0c3cc1c9bee4c7ab64a78b5ea900b9edbf9da0
   "metadata": {},
   "outputs": [
    {
     "data": {
      "text/html": [
       "<div>\n",
       "<style scoped>\n",
       "    .dataframe tbody tr th:only-of-type {\n",
       "        vertical-align: middle;\n",
       "    }\n",
       "\n",
       "    .dataframe tbody tr th {\n",
       "        vertical-align: top;\n",
       "    }\n",
       "\n",
       "    .dataframe thead th {\n",
       "        text-align: right;\n",
       "    }\n",
       "</style>\n",
       "<table border=\"1\" class=\"dataframe\">\n",
       "  <thead>\n",
       "    <tr style=\"text-align: right;\">\n",
       "      <th></th>\n",
       "      <th>Unnamed: 0</th>\n",
       "      <th>title</th>\n",
       "      <th>text</th>\n",
       "      <th>label</th>\n",
       "    </tr>\n",
       "  </thead>\n",
       "  <tbody>\n",
       "    <tr>\n",
       "      <th>0</th>\n",
       "      <td>8476</td>\n",
       "      <td>You Can Smell Hillary’s Fear</td>\n",
       "      <td>Daniel Greenfield, a Shillman Journalism Fello...</td>\n",
       "      <td>FAKE</td>\n",
       "    </tr>\n",
       "    <tr>\n",
       "      <th>1</th>\n",
       "      <td>10294</td>\n",
       "      <td>Watch The Exact Moment Paul Ryan Committed Pol...</td>\n",
       "      <td>Google Pinterest Digg Linkedin Reddit Stumbleu...</td>\n",
       "      <td>FAKE</td>\n",
       "    </tr>\n",
       "    <tr>\n",
       "      <th>2</th>\n",
       "      <td>3608</td>\n",
       "      <td>Kerry to go to Paris in gesture of sympathy</td>\n",
       "      <td>U.S. Secretary of State John F. Kerry said Mon...</td>\n",
       "      <td>REAL</td>\n",
       "    </tr>\n",
       "    <tr>\n",
       "      <th>3</th>\n",
       "      <td>10142</td>\n",
       "      <td>Bernie supporters on Twitter erupt in anger ag...</td>\n",
       "      <td>— Kaydee King (@KaydeeKing) November 9, 2016 T...</td>\n",
       "      <td>FAKE</td>\n",
       "    </tr>\n",
       "    <tr>\n",
       "      <th>4</th>\n",
       "      <td>875</td>\n",
       "      <td>The Battle of New York: Why This Primary Matters</td>\n",
       "      <td>It's primary day in New York and front-runners...</td>\n",
       "      <td>REAL</td>\n",
       "    </tr>\n",
       "  </tbody>\n",
       "</table>\n",
       "</div>"
      ],
      "text/plain": [
       "   Unnamed: 0                                              title  \\\n",
       "0        8476                       You Can Smell Hillary’s Fear   \n",
       "1       10294  Watch The Exact Moment Paul Ryan Committed Pol...   \n",
       "2        3608        Kerry to go to Paris in gesture of sympathy   \n",
       "3       10142  Bernie supporters on Twitter erupt in anger ag...   \n",
       "4         875   The Battle of New York: Why This Primary Matters   \n",
       "\n",
       "                                                text label  \n",
       "0  Daniel Greenfield, a Shillman Journalism Fello...  FAKE  \n",
       "1  Google Pinterest Digg Linkedin Reddit Stumbleu...  FAKE  \n",
       "2  U.S. Secretary of State John F. Kerry said Mon...  REAL  \n",
       "3  — Kaydee King (@KaydeeKing) November 9, 2016 T...  FAKE  \n",
       "4  It's primary day in New York and front-runners...  REAL  "
      ]
     },
     "execution_count": 2,
     "metadata": {},
     "output_type": "execute_result"
    }
   ],
   "source": [
    "# read csv from the DATA file\n",
    "df = pd.read_csv(\"./Data/news-dataSet.csv\")\n",
    "\n",
    "# Show CSV head\n",
    "df.head()"
   ]
  },
  {
   "cell_type": "code",
<<<<<<< HEAD
   "execution_count": 3,
=======
   "execution_count": 4,
   "id": "e7e45c59",
>>>>>>> 3a0c3cc1c9bee4c7ab64a78b5ea900b9edbf9da0
   "metadata": {},
   "outputs": [
    {
     "data": {
      "text/plain": [
       "(6335, 4)"
      ]
     },
<<<<<<< HEAD
     "execution_count": 3,
=======
     "execution_count": 4,
>>>>>>> 3a0c3cc1c9bee4c7ab64a78b5ea900b9edbf9da0
     "metadata": {},
     "output_type": "execute_result"
    }
   ],
   "source": [
    "#show csv shape\n",
    "df.shape"
   ]
  },
  {
   "cell_type": "code",
<<<<<<< HEAD
   "execution_count": 4,
=======
   "execution_count": 5,
   "id": "8b42428c",
>>>>>>> 3a0c3cc1c9bee4c7ab64a78b5ea900b9edbf9da0
   "metadata": {},
   "outputs": [
    {
     "data": {
      "text/plain": [
       "Index(['Unnamed: 0', 'title', 'text', 'label'], dtype='object')"
      ]
     },
<<<<<<< HEAD
     "execution_count": 4,
=======
     "execution_count": 5,
>>>>>>> 3a0c3cc1c9bee4c7ab64a78b5ea900b9edbf9da0
     "metadata": {},
     "output_type": "execute_result"
    }
   ],
   "source": [
    "# show csv columns\n",
    "df.columns"
   ]
  },
  {
   "cell_type": "code",
<<<<<<< HEAD
   "execution_count": 5,
=======
   "execution_count": 6,
   "id": "6fb025ed",
>>>>>>> 3a0c3cc1c9bee4c7ab64a78b5ea900b9edbf9da0
   "metadata": {},
   "outputs": [
    {
     "data": {
      "text/plain": [
       "Unnamed: 0    0\n",
       "title         0\n",
       "text          0\n",
       "label         0\n",
       "dtype: int64"
      ]
     },
<<<<<<< HEAD
     "execution_count": 5,
=======
     "execution_count": 6,
>>>>>>> 3a0c3cc1c9bee4c7ab64a78b5ea900b9edbf9da0
     "metadata": {},
     "output_type": "execute_result"
    }
   ],
   "source": [
    "# show Empty values\n",
    "df.isnull().sum()"
   ]
  },
  {
   "cell_type": "code",
<<<<<<< HEAD
   "execution_count": 6,
=======
   "execution_count": 7,
   "id": "026cf7b7",
>>>>>>> 3a0c3cc1c9bee4c7ab64a78b5ea900b9edbf9da0
   "metadata": {},
   "outputs": [
    {
     "data": {
      "text/plain": [
       "Index(['reference', 'title', 'text', 'label'], dtype='object')"
      ]
     },
<<<<<<< HEAD
     "execution_count": 6,
=======
     "execution_count": 7,
>>>>>>> 3a0c3cc1c9bee4c7ab64a78b5ea900b9edbf9da0
     "metadata": {},
     "output_type": "execute_result"
    }
   ],
   "source": [
    "# rename column \"Unnamed: 0\" to \"reference\"\n",
    "df.columns = df.columns.str.replace('Unnamed: 0', 'reference')\n",
    "df.columns"
   ]
  },
  {
   "cell_type": "code",
<<<<<<< HEAD
   "execution_count": 7,
=======
   "execution_count": 8,
   "id": "6c4ff2f2",
>>>>>>> 3a0c3cc1c9bee4c7ab64a78b5ea900b9edbf9da0
   "metadata": {},
   "outputs": [
    {
     "data": {
      "text/plain": [
       "<matplotlib.axes._subplots.AxesSubplot at 0x1d6723e51c8>"
      ]
     },
<<<<<<< HEAD
     "execution_count": 7,
=======
     "execution_count": 8,
>>>>>>> 3a0c3cc1c9bee4c7ab64a78b5ea900b9edbf9da0
     "metadata": {},
     "output_type": "execute_result"
    },
    {
     "data": {
      "image/png": "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\n",
      "text/plain": [
       "<Figure size 432x288 with 1 Axes>"
      ]
     },
     "metadata": {
      "needs_background": "light"
     },
     "output_type": "display_data"
    }
   ],
   "source": [
    "# Count number of FAKE and REAL news\n",
    "df.label.value_counts().plot.bar()"
   ]
  },
  {
   "cell_type": "code",
<<<<<<< HEAD
   "execution_count": 8,
=======
   "execution_count": 9,
   "id": "80a47544",
>>>>>>> 3a0c3cc1c9bee4c7ab64a78b5ea900b9edbf9da0
   "metadata": {},
   "outputs": [
    {
     "data": {
      "text/plain": [
<<<<<<< HEAD
       "[<matplotlib.lines.Line2D at 0x1d676a6c388>]"
      ]
     },
     "execution_count": 8,
=======
       "[<matplotlib.lines.Line2D at 0x146ccd14dc0>]"
      ]
     },
     "execution_count": 9,
>>>>>>> 3a0c3cc1c9bee4c7ab64a78b5ea900b9edbf9da0
     "metadata": {},
     "output_type": "execute_result"
    },
    {
     "data": {
<<<<<<< HEAD
      "image/png": "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\n",
=======
      "image/png": "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",
>>>>>>> 3a0c3cc1c9bee4c7ab64a78b5ea900b9edbf9da0
      "text/plain": [
       "<Figure size 432x288 with 1 Axes>"
      ]
     },
     "metadata": {
      "needs_background": "light"
     },
     "output_type": "display_data"
    }
   ],
   "source": [
    "df.title.str.len().max()\n",
    "# titles length size \n",
    "plt.plot(df.title.str.len().unique())"
   ]
  },
  {
   "cell_type": "code",
<<<<<<< HEAD
   "execution_count": 9,
=======
   "execution_count": 10,
   "id": "5253a1fc",
>>>>>>> 3a0c3cc1c9bee4c7ab64a78b5ea900b9edbf9da0
   "metadata": {},
   "outputs": [
    {
     "name": "stdout",
     "output_type": "stream",
     "text": [
      "0                        You Can Smell Hillary’s Feartext\n",
      "1       Watch The Exact Moment Paul Ryan Committed Pol...\n",
      "2         Kerry to go to Paris in gesture of sympathytext\n",
      "3       Bernie supporters on Twitter erupt in anger ag...\n",
      "4       The Battle of New York: Why This Primary Matte...\n",
      "                              ...                        \n",
      "6330    State Department says it can't find emails fro...\n",
      "6331    The ‘P’ in PBS Should Stand for ‘Plutocratic’ ...\n",
      "6332    Anti-Trump Protesters Are Tools of the Oligarc...\n",
      "6333    In Ethiopia, Obama seeks progress on peace, se...\n",
      "6334    Jeb Bush Is Suddenly Attacking Trump. Here's W...\n",
      "Name: content, Length: 6335, dtype: object\n"
     ]
    }
   ],
   "source": [
    "#concaténation de la colonne title et text\n",
    "df['content']=df['title']+['text']\n",
    "print(df['content'])"
   ]
  },
  {
   "cell_type": "code",
<<<<<<< HEAD
   "execution_count": 10,
=======
   "execution_count": 11,
   "id": "ca94508d",
>>>>>>> 3a0c3cc1c9bee4c7ab64a78b5ea900b9edbf9da0
   "metadata": {},
   "outputs": [],
   "source": [
    "# Création de la fonction qui convertit le text en miniscule\n",
    "def miniscule(text):\n",
    "    text = text.lower()  \n",
    "    return text"
   ]
  },
  {
   "cell_type": "code",
<<<<<<< HEAD
   "execution_count": 11,
=======
   "execution_count": 12,
   "id": "31ad3de9",
>>>>>>> 3a0c3cc1c9bee4c7ab64a78b5ea900b9edbf9da0
   "metadata": {},
   "outputs": [
    {
     "name": "stdout",
     "output_type": "stream",
     "text": [
      "0                        you can smell hillary’s feartext\n",
      "1       watch the exact moment paul ryan committed pol...\n",
      "2         kerry to go to paris in gesture of sympathytext\n",
      "3       bernie supporters on twitter erupt in anger ag...\n",
      "4       the battle of new york: why this primary matte...\n",
      "                              ...                        \n",
      "6330    state department says it can't find emails fro...\n",
      "6331    the ‘p’ in pbs should stand for ‘plutocratic’ ...\n",
      "6332    anti-trump protesters are tools of the oligarc...\n",
      "6333    in ethiopia, obama seeks progress on peace, se...\n",
      "6334    jeb bush is suddenly attacking trump. here's w...\n",
      "Name: content, Length: 6335, dtype: object\n"
     ]
    }
   ],
   "source": [
    "#application de la fonction sur la colonne \"content\"\n",
    "df[\"content\"] = df[\"content\"].apply(miniscule)\n",
    "print(df[\"content\"])"
   ]
  },
  {
   "cell_type": "code",
<<<<<<< HEAD
   "execution_count": 12,
=======
   "execution_count": 13,
   "id": "5be2f113",
>>>>>>> 3a0c3cc1c9bee4c7ab64a78b5ea900b9edbf9da0
   "metadata": {},
   "outputs": [],
   "source": [
    "#Création de la fonction qui supprime les extra space, special caractères , url and links.\n",
    "def replace(text):\n",
    "    text = re.sub('\\[.*?\\]', '', text)\n",
    "    text = re.sub(\"\\\\W\",\" \",text) \n",
    "    text = re.sub('https?://\\S+|www\\.\\S+', '', text)\n",
    "    text = re.sub('<.*?>+', '', text)\n",
    "    text = re.sub('[%s]' % re.escape(string.punctuation), '', text)\n",
    "    text = re.sub('\\n', '', text)\n",
    "    text = re.sub('\\w*\\d\\w*', '', text)    \n",
    "    return text \n"
   ]
  },
  {
   "cell_type": "code",
<<<<<<< HEAD
   "execution_count": 13,
=======
   "execution_count": 14,
   "id": "252b84fc",
>>>>>>> 3a0c3cc1c9bee4c7ab64a78b5ea900b9edbf9da0
   "metadata": {},
   "outputs": [
    {
     "name": "stdout",
     "output_type": "stream",
     "text": [
      "0                        you can smell hillary s feartext\n",
      "1       watch the exact moment paul ryan committed pol...\n",
      "2         kerry to go to paris in gesture of sympathytext\n",
      "3       bernie supporters on twitter erupt in anger ag...\n",
      "4       the battle of new york  why this primary matte...\n",
      "                              ...                        \n",
      "6330    state department says it can t find emails fro...\n",
      "6331    the  p  in pbs should stand for  plutocratic  ...\n",
      "6332    anti trump protesters are tools of the oligarc...\n",
      "6333    in ethiopia  obama seeks progress on peace  se...\n",
      "6334    jeb bush is suddenly attacking trump  here s w...\n",
      "Name: content, Length: 6335, dtype: object\n"
     ]
    }
   ],
   "source": [
    "#application de la fonction sur la colonne \"content\"\n",
    "df[\"content\"] = df[\"content\"].apply(replace)\n",
    "print(df[\"content\"])"
   ]
  },
  {
   "cell_type": "code",
<<<<<<< HEAD
   "execution_count": 14,
=======
   "execution_count": 15,
   "id": "2721621b",
>>>>>>> 3a0c3cc1c9bee4c7ab64a78b5ea900b9edbf9da0
   "metadata": {},
   "outputs": [
    {
     "name": "stdout",
     "output_type": "stream",
     "text": [
      "0                     you can smell hillary s feartext\n",
      "1    watch the exact moment paul ryan committed pol...\n",
      "2      kerry to go to paris in gesture of sympathytext\n",
      "Name: content, dtype: object\n",
      "0    FAKE\n",
      "1    FAKE\n",
      "2    REAL\n",
      "Name: label, dtype: object\n"
     ]
    }
   ],
   "source": [
    "# separate content and label\n",
    "X = df['content']\n",
    "Y = df['label']\n",
    "\n",
    "print (X.head(3)) # X-> content\n",
    "print (Y.head(3)) # Y-> label"
   ]
  },
  {
   "cell_type": "code",
<<<<<<< HEAD
   "execution_count": 15,
=======
   "execution_count": 16,
   "id": "418cdd15",
>>>>>>> 3a0c3cc1c9bee4c7ab64a78b5ea900b9edbf9da0
   "metadata": {},
   "outputs": [
    {
     "name": "stdout",
     "output_type": "stream",
     "text": [
      "Empty values for X: 0\n",
      "Empty values for Y: 0\n"
     ]
    }
   ],
   "source": [
    "# Show Empty values in each table\n",
    "print(\"Empty values for X:\" , X.isnull().sum())\n",
    "print(\"Empty values for Y:\" , Y.isnull().sum())"
   ]
  },
  {
   "cell_type": "markdown",
<<<<<<< HEAD
=======
   "id": "7ba93598",
>>>>>>> 3a0c3cc1c9bee4c7ab64a78b5ea900b9edbf9da0
   "metadata": {},
   "source": [
    "## DataSet Division"
   ]
  },
  {
   "cell_type": "code",
<<<<<<< HEAD
   "execution_count": 16,
=======
   "execution_count": 17,
   "id": "1d65b8ed",
>>>>>>> 3a0c3cc1c9bee4c7ab64a78b5ea900b9edbf9da0
   "metadata": {},
   "outputs": [],
   "source": [
    "from sklearn.model_selection import train_test_split\n",
    "\n",
    "# Split 80% train 20% test\n",
    "x_train, x_test, y_train, y_test = train_test_split(X,Y, test_size = 0.20, random_state=7)"
   ]
  },
  {
   "cell_type": "code",
<<<<<<< HEAD
   "execution_count": 17,
=======
   "execution_count": 18,
   "id": "e3c82d58",
>>>>>>> 3a0c3cc1c9bee4c7ab64a78b5ea900b9edbf9da0
   "metadata": {},
   "outputs": [],
   "source": [
    "#instanciation du TfidVectorizer\n",
    "from sklearn.feature_extraction.text import TfidfVectorizer\n",
    "\n",
    "vectorization = TfidfVectorizer(stop_words='english',max_df=0.7)"
   ]
  },
  {
<<<<<<< HEAD
   "cell_type": "markdown",
=======
   "attachments": {},
   "cell_type": "markdown",
   "id": "3306dbc2",
>>>>>>> 3a0c3cc1c9bee4c7ab64a78b5ea900b9edbf9da0
   "metadata": {},
   "source": [
    "## 0.passive agreesive classifier "
   ]
  },
  {
   "cell_type": "code",
<<<<<<< HEAD
   "execution_count": 18,
=======
   "execution_count": 19,
   "id": "6fb98d8f",
>>>>>>> 3a0c3cc1c9bee4c7ab64a78b5ea900b9edbf9da0
   "metadata": {},
   "outputs": [
    {
     "name": "stdout",
     "output_type": "stream",
     "text": [
<<<<<<< HEAD
      "Test Set Accuracy : 77.1902131018153 %\n",
=======
      "Test Set Accuracy : 77.26913970007892 %\n",
>>>>>>> 3a0c3cc1c9bee4c7ab64a78b5ea900b9edbf9da0
      "\n",
      "\n"
     ]
    }
   ],
   "source": [
    "#passive agreesive classifier \n",
    "from sklearn.linear_model import PassiveAggressiveClassifier\n",
    "from sklearn.pipeline import Pipeline\n",
    "from sklearn.metrics import accuracy_score\n",
    "\n",
    "pac=Pipeline([\n",
    "    ('linear',vectorization),\n",
    "    ('pc_clf',PassiveAggressiveClassifier(max_iter=50))\n",
    "])\n",
    "\n",
    "pac.fit(x_train,y_train)\n",
    "\n",
    "#Predict on the test set and calculate accuracy\n",
    "\n",
    "pac_pred=pac.predict(x_test)\n",
    "pacscore=pac.score(y_test,pac_pred)\n",
    "print(f\"Test Set Accuracy : {accuracy_score(y_test, pac_pred) * 100} %\\n\\n\") "
   ]
  },
  {
   "cell_type": "code",
<<<<<<< HEAD
   "execution_count": 19,
=======
   "execution_count": 20,
   "id": "a0760ab0",
>>>>>>> 3a0c3cc1c9bee4c7ab64a78b5ea900b9edbf9da0
   "metadata": {},
   "outputs": [
    {
     "data": {
      "text/plain": [
<<<<<<< HEAD
       "array([[498, 140],\n",
       "       [149, 480]], dtype=int64)"
      ]
     },
     "execution_count": 19,
=======
       "array([[492, 146],\n",
       "       [142, 487]], dtype=int64)"
      ]
     },
     "execution_count": 20,
>>>>>>> 3a0c3cc1c9bee4c7ab64a78b5ea900b9edbf9da0
     "metadata": {},
     "output_type": "execute_result"
    }
   ],
   "source": [
    "#Imprimons la matrice de confusion pour mieux comprendre le nombre de faux et de vrais négatifs et positifs.\n",
    "#Création de la matrice de confusion\n",
    "from sklearn.metrics import confusion_matrix\n",
    "\n",
    "confusion_matrix(y_test,pac_pred, labels=['FAKE','REAL'])"
   ]
  },
  {
   "cell_type": "code",
<<<<<<< HEAD
   "execution_count": 20,
=======
   "execution_count": 21,
   "id": "f0887475",
>>>>>>> 3a0c3cc1c9bee4c7ab64a78b5ea900b9edbf9da0
   "metadata": {},
   "outputs": [],
   "source": [
    "import pickle\n",
    "\n",
    "#enregistrement du model sur le disque\n",
    "model_file_pac='final_model_pac.sav'\n",
    "pickle.dump(pac,open(model_file_pac,'wb'))#serialization:on enregistre les donnes en flux d'octetes sur le fichier final_model"
   ]
  },
  {
   "cell_type": "code",
<<<<<<< HEAD
   "execution_count": 21,
=======
   "execution_count": 22,
   "id": "68a0fcb7",
>>>>>>> 3a0c3cc1c9bee4c7ab64a78b5ea900b9edbf9da0
   "metadata": {},
   "outputs": [],
   "source": [
    "#function to run for prediction\n",
    "def detecting_fake_news_pac(var):\n",
    "    \n",
    "    #récupération du modèle pour l’appel de prévision\n",
    "    load_model_pac=pickle.load(open('final_model_pac.sav','rb')) #deserialization:on lit a partir du fichier final_model\n",
    "    prediction_pac=load_model_pac.predict([var])#calcul du prediction de la nouvelle entrée en paramétre selon notre model\n",
    "    \n",
    "    return (prediction_pac[0])"
   ]
  },
  {
<<<<<<< HEAD
   "cell_type": "markdown",
=======
   "attachments": {},
   "cell_type": "markdown",
   "id": "91138c2c",
>>>>>>> 3a0c3cc1c9bee4c7ab64a78b5ea900b9edbf9da0
   "metadata": {},
   "source": [
    "## 1. Logistic Regression Classifier"
   ]
  },
  {
   "cell_type": "code",
<<<<<<< HEAD
   "execution_count": 22,
=======
   "execution_count": 23,
   "id": "65d60df3",
>>>>>>> 3a0c3cc1c9bee4c7ab64a78b5ea900b9edbf9da0
   "metadata": {},
   "outputs": [],
   "source": [
    "from sklearn.linear_model import LogisticRegression"
   ]
  },
  {
   "cell_type": "code",
<<<<<<< HEAD
   "execution_count": 23,
=======
   "execution_count": 24,
   "id": "fda03f77",
>>>>>>> 3a0c3cc1c9bee4c7ab64a78b5ea900b9edbf9da0
   "metadata": {},
   "outputs": [
    {
     "name": "stdout",
     "output_type": "stream",
     "text": [
      "Test Set Accuracy : 81.21546961325967 %\n",
      "\n",
      "\n"
     ]
    }
   ],
   "source": [
    "LR=Pipeline([\n",
    "    ('linear',vectorization),\n",
    "    ('lr',LogisticRegression())\n",
    "])\n",
    "\n",
    "LR.fit(x_train,y_train)\n",
    "\n",
    "# Predict on the test set and calculate accuracy\n",
    "LR_pred=LR.predict(x_test)\n",
    "LRscore=LR.score(y_test,LR_pred)\n",
    "print(f\"Test Set Accuracy : {accuracy_score(y_test, LR_pred) * 100} %\\n\\n\")"
   ]
  },
  {
   "cell_type": "code",
<<<<<<< HEAD
   "execution_count": 24,
=======
   "execution_count": 25,
   "id": "7124ca5f",
>>>>>>> 3a0c3cc1c9bee4c7ab64a78b5ea900b9edbf9da0
   "metadata": {},
   "outputs": [
    {
     "data": {
      "text/plain": [
       "array([[544,  94],\n",
       "       [144, 485]], dtype=int64)"
      ]
     },
<<<<<<< HEAD
     "execution_count": 24,
=======
     "execution_count": 25,
>>>>>>> 3a0c3cc1c9bee4c7ab64a78b5ea900b9edbf9da0
     "metadata": {},
     "output_type": "execute_result"
    }
   ],
   "source": [
    "#Creation de la matrice du confusion \n",
    "confusion_matrix(y_test,LR_pred, labels=['FAKE','REAL'])"
   ]
  },
  {
   "cell_type": "code",
<<<<<<< HEAD
   "execution_count": 25,
=======
   "execution_count": 26,
   "id": "3efd708a",
>>>>>>> 3a0c3cc1c9bee4c7ab64a78b5ea900b9edbf9da0
   "metadata": {},
   "outputs": [],
   "source": [
    "#enrgistrement du  model\n",
    "model_file_LR='final_model_LR.sav'\n",
    "pickle.dump(LR,open(model_file_LR,'wb'))#serialization:on enregistre les donnes en flux d'octetes sur le fichier final_model"
   ]
  },
  {
   "cell_type": "code",
<<<<<<< HEAD
   "execution_count": 26,
=======
   "execution_count": 27,
   "id": "0b2db671",
>>>>>>> 3a0c3cc1c9bee4c7ab64a78b5ea900b9edbf9da0
   "metadata": {},
   "outputs": [],
   "source": [
    "#function to run for prediction\n",
    "def detecting_fake_news_LR(var):\n",
    "    \n",
    "    #récupération du modèle pour l’appel de prévision\n",
    "    load_model_LR=pickle.load(open('final_model_LR.sav','rb')) #deserialization:on lit a partir du fichier final_model\n",
    "    prediction_LR=load_model_LR.predict([var])#calcul du prediction de la nouvelle entré en paramétre selon notre model\n",
    "    \n",
    "    return (prediction_LR[0])"
   ]
  },
  {
<<<<<<< HEAD
   "cell_type": "markdown",
=======
   "attachments": {},
   "cell_type": "markdown",
   "id": "b15a6536",
>>>>>>> 3a0c3cc1c9bee4c7ab64a78b5ea900b9edbf9da0
   "metadata": {},
   "source": [
    "## 2. Decision Tree Classifier"
   ]
  },
  {
   "cell_type": "code",
<<<<<<< HEAD
   "execution_count": 27,
=======
   "execution_count": 28,
   "id": "f2290b6f",
>>>>>>> 3a0c3cc1c9bee4c7ab64a78b5ea900b9edbf9da0
   "metadata": {},
   "outputs": [
    {
     "name": "stdout",
     "output_type": "stream",
     "text": [
<<<<<<< HEAD
      "Test Set Accuracy : 72.77032359905287 %\n",
=======
      "Test Set Accuracy : 72.61247040252566 %\n",
>>>>>>> 3a0c3cc1c9bee4c7ab64a78b5ea900b9edbf9da0
      "\n",
      "\n"
     ]
    }
   ],
   "source": [
    "from sklearn.tree import DecisionTreeClassifier\n",
    "\n",
    "DT=Pipeline([\n",
    "    ('linear',vectorization),\n",
    "    ('dt',DecisionTreeClassifier())\n",
    "])\n",
    "\n",
    "DT.fit(x_train,y_train)\n",
    "\n",
    "# Predict on the test set and calculate accuracy\n",
    "DT_pred=DT.predict(x_test)\n",
    "DTscore=DT.score(y_test,DT_pred)\n",
    "print(f\"Test Set Accuracy : {accuracy_score(y_test, DT_pred) * 100} %\\n\\n\")  "
   ]
  },
  {
   "cell_type": "code",
<<<<<<< HEAD
   "execution_count": 28,
=======
   "execution_count": 29,
   "id": "01d1650a",
>>>>>>> 3a0c3cc1c9bee4c7ab64a78b5ea900b9edbf9da0
   "metadata": {},
   "outputs": [
    {
     "data": {
      "text/plain": [
<<<<<<< HEAD
       "array([[443, 195],\n",
       "       [150, 479]], dtype=int64)"
      ]
     },
     "execution_count": 28,
=======
       "array([[438, 200],\n",
       "       [147, 482]], dtype=int64)"
      ]
     },
     "execution_count": 29,
>>>>>>> 3a0c3cc1c9bee4c7ab64a78b5ea900b9edbf9da0
     "metadata": {},
     "output_type": "execute_result"
    }
   ],
   "source": [
    "#enregistrement de la matrice du confusion \n",
    "confusion_matrix(y_test,DT_pred, labels=['FAKE','REAL'])"
   ]
  },
  {
   "cell_type": "code",
<<<<<<< HEAD
   "execution_count": 29,
=======
   "execution_count": 30,
   "id": "5dbdb6d3",
>>>>>>> 3a0c3cc1c9bee4c7ab64a78b5ea900b9edbf9da0
   "metadata": {},
   "outputs": [],
   "source": [
    "#enregistrement du model sur le disk\n",
    "model_file_DT='final_model_DT.sav'\n",
    "pickle.dump(DT,open(model_file_DT,'wb'))#serialization:on enregistre les donnes en flux d'octetes sur le fichier final_model"
   ]
  },
  {
   "cell_type": "code",
<<<<<<< HEAD
   "execution_count": 30,
=======
   "execution_count": 31,
   "id": "c47fa7f9",
>>>>>>> 3a0c3cc1c9bee4c7ab64a78b5ea900b9edbf9da0
   "metadata": {},
   "outputs": [],
   "source": [
    "import pickle\n",
    "\n",
    "#function to run for prediction\n",
    "def detecting_fake_news_DT(var):\n",
    "    \n",
    "    #récupération du modèle pour l’appel de prévision\n",
    "    load_model_DT=pickle.load(open('final_model_DT.sav','rb')) #deserialization:on lit a partir du fichier final_model\n",
    "    prediction_DT=load_model_DT.predict([var])#calcul du prediction de la nouvelle entré en paramétre selon notre model\n",
    "    \n",
    "    return (prediction_DT[0])"
   ]
  },
  {
<<<<<<< HEAD
   "cell_type": "markdown",
=======
   "attachments": {},
   "cell_type": "markdown",
   "id": "5f784e86",
>>>>>>> 3a0c3cc1c9bee4c7ab64a78b5ea900b9edbf9da0
   "metadata": {},
   "source": [
    "## 3. Random Forest Classifier"
   ]
  },
  {
<<<<<<< HEAD
   "cell_type": "code",
   "execution_count": 31,
   "metadata": {},
   "outputs": [],
   "source": [
    "from sklearn.ensemble import RandomForestClassifier"
   ]
  },
  {
   "cell_type": "code",
   "execution_count": 32,
   "metadata": {},
   "outputs": [
    {
     "name": "stdout",
     "output_type": "stream",
     "text": [
      "Test Set Accuracy : 79.55801104972376 %\n",
      "\n",
      "\n"
     ]
    }
   ],
   "source": [
    "RFC=Pipeline([\n",
    "    ('linear',vectorization),\n",
    "    ('rfc',RandomForestClassifier(random_state=0))\n",
    "])\n",
    "\n",
    "RFC.fit(x_train,y_train)\n",
    "\n",
    "#predict on the test set and calculate accuracy\n",
    "RFC_pred=RFC.predict(x_test)\n",
    "RFCscore=RFC.score(y_test,RFC_pred)\n",
    "print(f\"Test Set Accuracy : {accuracy_score(y_test, RFC_pred) * 100} %\\n\\n\")  "
   ]
  },
  {
   "cell_type": "code",
   "execution_count": 33,
   "metadata": {},
   "outputs": [
    {
     "data": {
      "text/plain": [
       "array([[520, 118],\n",
       "       [141, 488]], dtype=int64)"
      ]
     },
     "execution_count": 33,
     "metadata": {},
     "output_type": "execute_result"
    }
   ],
   "source": [
    "#Build confusion matrix\n",
    "confusion_matrix(y_test,RFC_pred, labels=['FAKE','REAL'])"
   ]
  },
  {
   "cell_type": "code",
   "execution_count": 34,
   "metadata": {},
   "outputs": [],
   "source": [
    "#saving best model to the disk\n",
    "model_file_RFC='final_model_RFC.sav'\n",
    "pickle.dump(RFC,open(model_file_RFC,'wb'))#serialization:on enregistre les donnes en flux d'octetes sur le fichier final_model"
   ]
  },
  {
   "cell_type": "code",
   "execution_count": 36,
   "metadata": {},
   "outputs": [],
   "source": [
    "import pickle\n",
    "\n",
    "#function to run for prediction\n",
    "\n",
    "def detecting_fake_news_RFC(var):\n",
    "\n",
    "    \n",
    "\n",
    "    #retrieving the best model for  prediction call\n",
    "\n",
    "    load_model_RFC=pickle.load(open('final_model_RFC.sav','rb')) #deserialization:on lit a partir du fichier final_model\n",
    "\n",
    "    prediction_RFC=load_model_RFC.predict([var])#calcul du prediction de la nouvelle entré en paramétre selon notre model\n",
    "\n",
    "    \n",
    "\n",
    "    return (prediction_RFC[0])"
   ]
  },
  {
   "cell_type": "code",
   "execution_count": null,
   "metadata": {},
   "outputs": [],
=======
   "attachments": {},
   "cell_type": "markdown",
   "id": "5c0dfe24",
   "metadata": {},
   "source": [
    "* Avant de faire random forest verifie code et faire un premier envois vers le correct code \n",
    "* TODO: the random forest classifier"
   ]
  },
  {
   "cell_type": "markdown",
   "id": "0fbfcfa8",
   "metadata": {},
>>>>>>> 3a0c3cc1c9bee4c7ab64a78b5ea900b9edbf9da0
   "source": []
  }
 ],
 "metadata": {
  "kernelspec": {
   "display_name": "Python 3",
   "language": "python",
   "name": "python3"
  },
  "language_info": {
   "codemirror_mode": {
    "name": "ipython",
    "version": 3
   },
   "file_extension": ".py",
   "mimetype": "text/x-python",
   "name": "python",
   "nbconvert_exporter": "python",
   "pygments_lexer": "ipython3",
   "version": "3.7.6"
  },
  "vscode": {
   "interpreter": {
    "hash": "0fcc0009ff031cc20ae674e5090003a978469a9f1a3a30a57df2dfeda5169f28"
   }
  }
 },
 "nbformat": 4,
 "nbformat_minor": 5
}
