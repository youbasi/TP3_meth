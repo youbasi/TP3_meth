{
 "cells": [
  {
   "cell_type": "markdown",
   "id": "5cd422e5",
   "metadata": {},
   "source": [
    "# Fake news Detection"
   ]
  },
  {
   "cell_type": "code",
   "execution_count": 1,
   "id": "44647a28",
   "metadata": {},
   "outputs": [],
   "source": [
    "# imports\n",
    "import pandas as pd \n",
    "import re\n",
    "import string\n",
    "import matplotlib.pyplot as plt"
   ]
  },
  {
   "cell_type": "markdown",
   "id": "748003ee",
   "metadata": {},
   "source": [
    "## Treating / process the dataset"
   ]
  },
  {
   "cell_type": "code",
   "execution_count": 2,
   "id": "b7b99260",
   "metadata": {},
   "outputs": [
    {
     "data": {
      "text/html": [
       "<div>\n",
       "<style scoped>\n",
       "    .dataframe tbody tr th:only-of-type {\n",
       "        vertical-align: middle;\n",
       "    }\n",
       "\n",
       "    .dataframe tbody tr th {\n",
       "        vertical-align: top;\n",
       "    }\n",
       "\n",
       "    .dataframe thead th {\n",
       "        text-align: right;\n",
       "    }\n",
       "</style>\n",
       "<table border=\"1\" class=\"dataframe\">\n",
       "  <thead>\n",
       "    <tr style=\"text-align: right;\">\n",
       "      <th></th>\n",
       "      <th>Unnamed: 0</th>\n",
       "      <th>title</th>\n",
       "      <th>text</th>\n",
       "      <th>label</th>\n",
       "    </tr>\n",
       "  </thead>\n",
       "  <tbody>\n",
       "    <tr>\n",
       "      <th>0</th>\n",
       "      <td>8476</td>\n",
       "      <td>You Can Smell Hillary’s Fear</td>\n",
       "      <td>Daniel Greenfield, a Shillman Journalism Fello...</td>\n",
       "      <td>FAKE</td>\n",
       "    </tr>\n",
       "    <tr>\n",
       "      <th>1</th>\n",
       "      <td>10294</td>\n",
       "      <td>Watch The Exact Moment Paul Ryan Committed Pol...</td>\n",
       "      <td>Google Pinterest Digg Linkedin Reddit Stumbleu...</td>\n",
       "      <td>FAKE</td>\n",
       "    </tr>\n",
       "    <tr>\n",
       "      <th>2</th>\n",
       "      <td>3608</td>\n",
       "      <td>Kerry to go to Paris in gesture of sympathy</td>\n",
       "      <td>U.S. Secretary of State John F. Kerry said Mon...</td>\n",
       "      <td>REAL</td>\n",
       "    </tr>\n",
       "    <tr>\n",
       "      <th>3</th>\n",
       "      <td>10142</td>\n",
       "      <td>Bernie supporters on Twitter erupt in anger ag...</td>\n",
       "      <td>— Kaydee King (@KaydeeKing) November 9, 2016 T...</td>\n",
       "      <td>FAKE</td>\n",
       "    </tr>\n",
       "    <tr>\n",
       "      <th>4</th>\n",
       "      <td>875</td>\n",
       "      <td>The Battle of New York: Why This Primary Matters</td>\n",
       "      <td>It's primary day in New York and front-runners...</td>\n",
       "      <td>REAL</td>\n",
       "    </tr>\n",
       "  </tbody>\n",
       "</table>\n",
       "</div>"
      ],
      "text/plain": [
       "   Unnamed: 0                                              title  \\\n",
       "0        8476                       You Can Smell Hillary’s Fear   \n",
       "1       10294  Watch The Exact Moment Paul Ryan Committed Pol...   \n",
       "2        3608        Kerry to go to Paris in gesture of sympathy   \n",
       "3       10142  Bernie supporters on Twitter erupt in anger ag...   \n",
       "4         875   The Battle of New York: Why This Primary Matters   \n",
       "\n",
       "                                                text label  \n",
       "0  Daniel Greenfield, a Shillman Journalism Fello...  FAKE  \n",
       "1  Google Pinterest Digg Linkedin Reddit Stumbleu...  FAKE  \n",
       "2  U.S. Secretary of State John F. Kerry said Mon...  REAL  \n",
       "3  — Kaydee King (@KaydeeKing) November 9, 2016 T...  FAKE  \n",
       "4  It's primary day in New York and front-runners...  REAL  "
      ]
     },
     "execution_count": 2,
     "metadata": {},
     "output_type": "execute_result"
    }
   ],
   "source": [
    "# read csv from the DATA file\n",
    "df = pd.read_csv(\"./Data/news-dataSet.csv\")\n",
    "\n",
    "# Show CSV head\n",
    "df.head()"
   ]
  },
  {
   "cell_type": "code",
   "execution_count": 3,
   "id": "e7e45c59",
   "metadata": {},
   "outputs": [
    {
     "data": {
      "text/plain": [
       "(6335, 4)"
      ]
     },
     "execution_count": 3,
     "metadata": {},
     "output_type": "execute_result"
    }
   ],
   "source": [
    "#show csv shape\n",
    "df.shape"
   ]
  },
  {
   "cell_type": "code",
   "execution_count": 4,
   "id": "8b42428c",
   "metadata": {},
   "outputs": [
    {
     "data": {
      "text/plain": [
       "Index(['Unnamed: 0', 'title', 'text', 'label'], dtype='object')"
      ]
     },
     "execution_count": 4,
     "metadata": {},
     "output_type": "execute_result"
    }
   ],
   "source": [
    "# show csv columns\n",
    "df.columns"
   ]
  },
  {
   "cell_type": "code",
   "execution_count": 5,
   "id": "6fb025ed",
   "metadata": {},
   "outputs": [
    {
     "data": {
      "text/plain": [
       "Unnamed: 0    0\n",
       "title         0\n",
       "text          0\n",
       "label         0\n",
       "dtype: int64"
      ]
     },
     "execution_count": 5,
     "metadata": {},
     "output_type": "execute_result"
    }
   ],
   "source": [
    "# show Empty values\n",
    "df.isnull().sum()"
   ]
  },
  {
   "cell_type": "code",
   "execution_count": 6,
   "id": "026cf7b7",
   "metadata": {},
   "outputs": [
    {
     "data": {
      "text/plain": [
       "Index(['reference', 'title', 'text', 'label'], dtype='object')"
      ]
     },
     "execution_count": 6,
     "metadata": {},
     "output_type": "execute_result"
    }
   ],
   "source": [
    "# rename column \"Unnamed: 0\" to \"reference\"\n",
    "df.columns = df.columns.str.replace('Unnamed: 0', 'reference')\n",
    "df.columns"
   ]
  },
  {
   "cell_type": "code",
   "execution_count": 7,
   "id": "6c4ff2f2",
   "metadata": {},
   "outputs": [
    {
     "data": {
      "text/plain": [
       "<AxesSubplot:>"
      ]
     },
     "execution_count": 7,
     "metadata": {},
     "output_type": "execute_result"
    },
    {
     "data": {
      "image/png": "[encoded data removed]",
      "text/plain": [
       "<Figure size 432x288 with 1 Axes>"
      ]
     },
     "metadata": {
      "needs_background": "light"
     },
     "output_type": "display_data"
    }
   ],
   "source": [
    "# Count number of FAKE and REAL news\n",
    "df.label.value_counts().plot.bar()"
   ]
  },
  {
   "cell_type": "code",
   "execution_count": 8,
   "id": "80a47544",
   "metadata": {},
   "outputs": [
    {
     "data": {
      "text/plain": [
       "[<matplotlib.lines.Line2D at 0x283674108b0>]"
      ]
     },
     "execution_count": 8,
     "metadata": {},
     "output_type": "execute_result"
    },
    {
     "data": {
      "image/png": "[encoded data removed]",
      "text/plain": [
       "<Figure size 432x288 with 1 Axes>"
      ]
     },
     "metadata": {
      "needs_background": "light"
     },
     "output_type": "display_data"
    }
   ],
   "source": [
    "df.title.str.len().max()\n",
    "# titles length size \n",
    "plt.plot(df.title.str.len().unique())"
   ]
  },
  {
   "cell_type": "code",
   "execution_count": 9,
   "id": "5253a1fc",
   "metadata": {},
   "outputs": [
    {
     "name": "stdout",
     "output_type": "stream",
     "text": [
      "0                        You Can Smell Hillary’s Feartext\n",
      "1       Watch The Exact Moment Paul Ryan Committed Pol...\n",
      "2         Kerry to go to Paris in gesture of sympathytext\n",
      "3       Bernie supporters on Twitter erupt in anger ag...\n",
      "4       The Battle of New York: Why This Primary Matte...\n",
      "                              ...                        \n",
      "6330    State Department says it can't find emails fro...\n",
      "6331    The ‘P’ in PBS Should Stand for ‘Plutocratic’ ...\n",
      "6332    Anti-Trump Protesters Are Tools of the Oligarc...\n",
      "6333    In Ethiopia, Obama seeks progress on peace, se...\n",
      "6334    Jeb Bush Is Suddenly Attacking Trump. Here's W...\n",
      "Name: content, Length: 6335, dtype: object\n"
     ]
    }
   ],
   "source": [
    "#concaténation de la colonne title et text\n",
    "df['content']=df['title']+['text']\n",
    "print(df['content'])"
   ]
  },
  {
   "cell_type": "code",
   "execution_count": 10,
   "id": "ca94508d",
   "metadata": {},
   "outputs": [],
   "source": [
    "# Création de la fonction qui convertit le text en miniscule\n",
    "def miniscule(text):\n",
    "    text = text.lower()  \n",
    "    return text"
   ]
  },
  {
   "cell_type": "code",
   "execution_count": 11,
   "id": "31ad3de9",
   "metadata": {},
   "outputs": [
    {
     "name": "stdout",
     "output_type": "stream",
     "text": [
      "0                        you can smell hillary’s feartext\n",
      "1       watch the exact moment paul ryan committed pol...\n",
      "2         kerry to go to paris in gesture of sympathytext\n",
      "3       bernie supporters on twitter erupt in anger ag...\n",
      "4       the battle of new york: why this primary matte...\n",
      "                              ...                        \n",
      "6330    state department says it can't find emails fro...\n",
      "6331    the ‘p’ in pbs should stand for ‘plutocratic’ ...\n",
      "6332    anti-trump protesters are tools of the oligarc...\n",
      "6333    in ethiopia, obama seeks progress on peace, se...\n",
      "6334    jeb bush is suddenly attacking trump. here's w...\n",
      "Name: content, Length: 6335, dtype: object\n"
     ]
    }
   ],
   "source": [
    "#application de la fonction sur la colonne \"content\"\n",
    "df[\"content\"] = df[\"content\"].apply(miniscule)\n",
    "print(df[\"content\"])"
   ]
  },
  {
   "cell_type": "code",
   "execution_count": 12,
   "id": "5be2f113",
   "metadata": {},
   "outputs": [],
   "source": [
    "#Création de la fonction qui supprime les extra space, special caractères , url and links.\n",
    "def replace(text):\n",
    "    text = re.sub('\\[.*?\\]', '', text)\n",
    "    text = re.sub(\"\\\\W\",\" \",text) \n",
    "    text = re.sub('https?://\\S+|www\\.\\S+', '', text)\n",
    "    text = re.sub('<.*?>+', '', text)\n",
    "    text = re.sub('[%s]' % re.escape(string.punctuation), '', text)\n",
    "    text = re.sub('\\n', '', text)\n",
    "    text = re.sub('\\w*\\d\\w*', '', text)    \n",
    "    return text \n"
   ]
  },
  {
   "cell_type": "code",
   "execution_count": 13,
   "id": "252b84fc",
   "metadata": {},
   "outputs": [
    {
     "name": "stdout",
     "output_type": "stream",
     "text": [
      "0                        you can smell hillary s feartext\n",
      "1       watch the exact moment paul ryan committed pol...\n",
      "2         kerry to go to paris in gesture of sympathytext\n",
      "3       bernie supporters on twitter erupt in anger ag...\n",
      "4       the battle of new york  why this primary matte...\n",
      "                              ...                        \n",
      "6330    state department says it can t find emails fro...\n",
      "6331    the  p  in pbs should stand for  plutocratic  ...\n",
      "6332    anti trump protesters are tools of the oligarc...\n",
      "6333    in ethiopia  obama seeks progress on peace  se...\n",
      "6334    jeb bush is suddenly attacking trump  here s w...\n",
      "Name: content, Length: 6335, dtype: object\n"
     ]
    }
   ],
   "source": [
    "#application de la fonction sur la colonne \"content\"\n",
    "df[\"content\"] = df[\"content\"].apply(replace)\n",
    "print(df[\"content\"])"
   ]
  },
  {
   "cell_type": "code",
   "execution_count": 14,
   "id": "2721621b",
   "metadata": {},
   "outputs": [
    {
     "name": "stdout",
     "output_type": "stream",
     "text": [
      "0                     you can smell hillary s feartext\n",
      "1    watch the exact moment paul ryan committed pol...\n",
      "2      kerry to go to paris in gesture of sympathytext\n",
      "Name: content, dtype: object\n",
      "0    FAKE\n",
      "1    FAKE\n",
      "2    REAL\n",
      "Name: label, dtype: object\n"
     ]
    }
   ],
   "source": [
    "# separate content and label\n",
    "X = df['content']\n",
    "Y = df['label']\n",
    "\n",
    "print (X.head(3)) # X-> content\n",
    "print (Y.head(3)) # Y-> label"
   ]
  },
  {
   "cell_type": "code",
   "execution_count": 15,
   "id": "418cdd15",
   "metadata": {},
   "outputs": [
    {
     "name": "stdout",
     "output_type": "stream",
     "text": [
      "Empty values for X: 0\n",
      "Empty values for Y: 0\n"
     ]
    }
   ],
   "source": [
    "# Show Empty values in each table\n",
    "print(\"Empty values for X:\" , X.isnull().sum())\n",
    "print(\"Empty values for Y:\" , Y.isnull().sum())"
   ]
  },
  {
   "cell_type": "markdown",
   "id": "7ba93598",
   "metadata": {},
   "source": [
    "## DataSet Division"
   ]
  },
  {
   "cell_type": "code",
   "execution_count": 24,
   "id": "1d65b8ed",
   "metadata": {},
   "outputs": [],
   "source": [
    "from sklearn.model_selection import train_test_split\n",
    "\n",
    "# Split 80% train 20% test\n",
    "x_train, x_test, y_train, y_test = train_test_split(X,Y, test_size = 0.20, random_state=7)"
   ]
  },
  {
   "cell_type": "code",
   "execution_count": 25,
   "id": "e3c82d58",
   "metadata": {},
   "outputs": [],
   "source": [
    "#instanciation du TfidVectorizer\n",
    "from sklearn.feature_extraction.text import TfidfVectorizer\n",
    "\n",
    "vectorization = TfidfVectorizer(stop_words='english',max_df=0.7)"
   ]
  },
  {
   "cell_type": "code",
   "execution_count": 26,
   "id": "6fb98d8f",
   "metadata": {},
   "outputs": [
    {
     "name": "stdout",
     "output_type": "stream",
     "text": [
      "Test Set Accuracy : 0.0 %\n",
      "\n",
      "\n"
     ]
    }
   ],
   "source": [
    "#passive agreesive classifier \n",
    "from sklearn.linear_model import PassiveAggressiveClassifier\n",
    "from sklearn.pipeline import Pipeline\n",
    "from sklearn.metrics import accuracy_score\n",
    "\n",
    "pac=Pipeline([\n",
    "    ('linear',vectorization),\n",
    "    ('pc_clf',PassiveAggressiveClassifier(max_iter=50))\n",
    "])\n",
    "\n",
    "pac.fit(x_train,y_train)\n",
    "\n",
    "#Predict on the test set and calculate accuracy\n",
    "\n",
    "pac_pred=pac.predict(x_test)\n",
    "pacscore=pac.score(y_test,pac_pred)\n",
    "print(f\"Test Set Accuracy : {accuracy_score(x_test, pac_pred) * 100} %\\n\\n\") "
   ]
  },
  {
   "cell_type": "code",
   "execution_count": null,
   "id": "4d683213",
   "metadata": {},
   "outputs": [],
   "source": []
  }
 ],
 "metadata": {
  "kernelspec": {
   "display_name": "Python 3.8.8 ('base')",
   "language": "python",
   "name": "python3"
  },
  "language_info": {
   "codemirror_mode": {
    "name": "ipython",
    "version": 3
   },
   "file_extension": ".py",
   "mimetype": "text/x-python",
   "name": "python",
   "nbconvert_exporter": "python",
   "pygments_lexer": "ipython3",
   "version": "3.8.8"
  },
  "vscode": {
   "interpreter": {
    "hash": "0fcc0009ff031cc20ae674e5090003a978469a9f1a3a30a57df2dfeda5169f28"
   }
  }
 },
 "nbformat": 4,
 "nbformat_minor": 5
}
